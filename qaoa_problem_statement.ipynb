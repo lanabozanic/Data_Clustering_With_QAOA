{
  "nbformat": 4,
  "nbformat_minor": 0,
  "metadata": {
    "colab": {
      "name": "qaoa - problem statement ",
      "provenance": []
    },
    "kernelspec": {
      "name": "python3",
      "display_name": "Python 3"
    }
  },
  "cells": [
    {
      "cell_type": "markdown",
      "metadata": {
        "id": "2zE0zZ8tfWCK",
        "colab_type": "text"
      },
      "source": [
        "## 1. Problem Statement\n"
      ]
    },
    {
      "cell_type": "markdown",
      "metadata": {
        "id": "Au5MyUCT5ydb",
        "colab_type": "text"
      },
      "source": [
        "In general, the QAOA solves the Max-cut problem, wherein a graph of _n_ vertices, wherein the graph is separated into 2 complementary subsets $S$ and $S^c$ such that the number of edges between $S$ and $S^c$ are as large as possible.\n",
        "\n",
        "In order to use Max-cut to cluster our data, we add numerical values as weights to the edges - here, the best solution maximizes the sum of the weights that separate the 2 subsets. \n",
        "\n",
        "<center>An example of a Max-cut problem<center>  \n",
        "<img src='https://www.localsolver.com/docs/last/_images/maxcut.png'>\n"
      ]
    },
    {
      "cell_type": "markdown",
      "metadata": {
        "id": "2F7eo2NuJIzZ",
        "colab_type": "text"
      },
      "source": [
        "### Defining the Problem\n",
        "\n",
        "> __Given__: undirected graph $G = (V, E)$.  \n",
        "__Goal of Maxcut__: find a subset $S \\subseteq Q$ such that $ |E(S, V \\backslash S)| $"
      ]
    },
    {
      "cell_type": "markdown",
      "metadata": {
        "id": "s9lv8FFL-jN1",
        "colab_type": "text"
      },
      "source": [
        "\n",
        "\n",
        "### A quick math primer\n",
        "The undirected graph $G$ is composed of a finite set of _n_ vertices $V_n = \\{ 1, 2, ..., n \\}$ and a set of _m_ edges defined by the vertices it joins, $E_m = \\{(i, j): 1 \\geq i < j \\geq n \\} $.\n",
        "\n",
        "Degree of vertex, $d_v$ is the number of edges, $e$ or $ij$, connected to it\n",
        "\n",
        "A _path_ from vertex $i$ to $j$ is a graph made of a series of vertices and edges that joins them. where $V(P) = \\{x_0, x_1..., x_l\\}$ and $E(P) = \\{x_1x_2, x_2x_3...x_{l-1}x_l\\}$. When a path exists between 2 vertices, they are said to be _connected_.   \n",
        "\n",
        "A _cycle_ is a specific type of path where $l \\geq 3$ and $x_i \\neq x_j$, meaning it is a closed path.\n",
        "\n",
        "<center> Path = A, B, C, E, F, G. Cycle = A, E, D, C, B, A <center>\n",
        "<img src='https://www.researchgate.net/publication/304990430/figure/fig2/AS:391154223861760@1470269842015/An-example-of-a-network-to-illustrate-terminology-used-in-graph-theory-Stam-2004.png' width ='400'>\n",
        "\n",
        "\n",
        "\n"
      ]
    },
    {
      "cell_type": "markdown",
      "metadata": {
        "id": "3hxpXH2DJX-D",
        "colab_type": "text"
      },
      "source": [
        "A _subgraph_ composed of a susbet $S \\subseteq V$ is denoted by $G_s$ is made of vertices in $S$ and only of those edges of $G$ which join vertices in $S$. \n",
        "\n",
        "Given a subset of vertices of a graph, $S \\subseteq V$, a __cut__ induced by S is defined as the set of edges with one end in $S$ and the other in $V-S$. \n",
        ">The cut, $\\delta_G(S) := \\{ij || S \\cap \\{i, j\\}| = 1 \\}$\n",
        "\n",
        "\n",
        "*  $ij$ represents an edge \n",
        "*  __finish annotating this equation__\n",
        "\n",
        "Let __weight__ $c$ be a function that assigns each each to a non-regative real value. Then, given a cut $\\delta_G(S)$, the weight of the cut of the sum of the weights of all the edges in the cut:\n",
        ">$c(\\delta(S)) := \\sum_{ij\\in \\delta(S)} c_{ij}$\n",
        "\n",
        "*   __finish annotating this equation__\n",
        "* \n",
        "\n",
        "#### Two forms of the Max-cut problem\n",
        "The Max-cut problem has 2 forms:\n",
        "\n",
        "\n",
        "\n",
        "1.   General form\n",
        "2.   Simple form\n",
        "\n",
        "The general form finds the maximum cut weight over all possible cuts of the weighted graph $G$ whereas the simple form restricts the weighting function to take on only values of 0 or 1. \n",
        "\n",
        "\n",
        "\n",
        "\n",
        "\n"
      ]
    },
    {
      "cell_type": "markdown",
      "metadata": {
        "id": "PWXnbyR46qrg",
        "colab_type": "text"
      },
      "source": [
        "Sources used:\n",
        "\n",
        "\n",
        "*   https://docs.entropicalabs.io/qaoa/notebooks/7_clusteringwithqaoa#the-maxcut-problem \n",
        "*   List item\n",
        "\n"
      ]
    },
    {
      "cell_type": "markdown",
      "metadata": {
        "id": "3ld0Q5Y6fcR6",
        "colab_type": "text"
      },
      "source": [
        "## The QAOA Algorithm\n"
      ]
    },
    {
      "cell_type": "markdown",
      "metadata": {
        "id": "KHN16InnftFw",
        "colab_type": "text"
      },
      "source": [
        "The Quantum Approximate Optimization Algorithm doesn't actually solve for the exact max value, but instead approximates it (hence the creative name). Although there are many classical algorithms that can do this already, QAOA has the potential to show speed ups over the classical algorithms as the circuit depth, p -> ∞ . At this point in time, the best performance we've achieved with the QAOA algorithm is at depth p = 1, so there is still much more exploring to do. The goal of QAOA is to optimize for some value, z, that maximizes the cost function, $C = \\displaystyle \\sum_{k=1}^{m} C_m(z)$, where $ z = z_1z_1...z_k$. But since we're not actually aiming for the exact value, just a really good approximation, our goal is to find a  $ \\dfrac{C(z)}{C_{max}} $ such that their ratio gets closer and closer to 1   (i.e. $ C(z) $ gets closer and closer to $ C_{max} $)\n",
        "\n",
        "### Quantum-ness\n",
        "\n",
        "The maximum value of $C(z')$ can be represented by the expectation value, $ \\langle z' |C| z' \\rangle $. What QAOA does is it applied a series of rotations of $e^{-i\\gamma H_C}$ a$e^{-i\\beta H_B}$. \n",
        "\n",
        "$H_C$ represents the problem hamiltonian, where $H_C = C(\\sigma^{z}_{1}, \\sigma^{z}_{2},...,\\sigma^{z}_{N})$, which we mapped from our cost function. Each variable of $z_k$ is represented with a quantum spin of $\\sigma^{z}_{i}$\n",
        "\n",
        "$H_B$ represents the mixing Hamiltonian, where $H_B$ = $\\displaystyle \\sum_{j=1}^{N} \\sigma^{x}_{j}$\n",
        "\n",
        "By iterating through a series of these rotations on a given state, $ | \\psi \\rangle $ the expectation value of $\\langle \\psi(\\gamma,\\beta) |C| \\psi(\\gamma,\\beta) \\rangle $ gets closer and closer to the max expectation value of $\\langle z|C|z \\rangle$.\n",
        "\n",
        "### Classical-ness \n",
        "\n",
        "Now that we have all the quantum-ness sorted out, we introduce the classical part of this hybrid algorithm. The classical part is used for measurement and optimization of parameters. With each iteration, we send through new optimized parameters, $\\gamma$ and $\\beta$, so that each time we evalute the original cost function we get a greater value.\n",
        "\n",
        "### Step-by-Step guide\n",
        "1. **Start with a trial state $|\\psi \\rangle$**   \n",
        "\n",
        "\n",
        "2. **Initialize 2 params, $\\gamma$ and $\\beta$**: You can base the initial params off a good ansatz, other wise they will start at 0.\n",
        "\n",
        "\n",
        "3. **Construct new state $|\\psi(\\gamma,\\beta)\\rangle$:** --> |$\\psi\\rangle$ gets updated.\n",
        "\n",
        "\n",
        "4. **Measure |$\\psi(\\gamma,\\beta)\\rangle$** classically \n",
        "\n",
        "\n",
        "5. **Iterate through steps 1-4^^:** $\\langle\\psi(\\gamma,\\beta)\\rangle$ will get closer to the optimal $|z\\rangle$ with each iteration\n",
        "\n",
        "\n",
        "6. **Calculate expectation value** $\\langle\\psi(\\gamma,\\beta)|C|\\psi(\\gamma,\\beta)\\rangle$ classically which will gets closer in closer to $\\langle z|C|z\\rangle$ (which is our max. cost)\n",
        "\n",
        "\n",
        "7. **Reiterate** with new parameters (steps 3 - 6): Take the highest average cost, and that's your maximized function value!\n",
        "\n"
      ]
    },
    {
      "cell_type": "code",
      "metadata": {
        "id": "I96eoV9dftuR",
        "colab_type": "code",
        "colab": {}
      },
      "source": [
        ""
      ],
      "execution_count": 0,
      "outputs": []
    }
  ]
}